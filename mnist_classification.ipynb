{
 "cells": [
  {
   "cell_type": "markdown",
   "metadata": {},
   "source": [
    "<h1><span style=\"color:blue\">Handwritten digit classification using multivariate linear regression. </span></h1>\n",
    "  Robert Martin\n",
    "  July 3, 2020"
   ]
  },
  {
   "cell_type": "markdown",
   "metadata": {},
   "source": [
    "In this notebook we develop a least squares model that will classify handwritten digits. This is a task more suited to convolutional neural networks. In fact such networks have been shown to have a 99% accuracy rate. Our aim is to demonstrate that this classification can be accomplished using a simple least squares model*. Also this exercise will afford us a better understanding of the least squares method of building models. We will demonstrate that an accuracy rate of near 90% can be achieved using this method."
   ]
  },
  {
   "cell_type": "markdown",
   "metadata": {},
   "source": [
    "* More on terminology.\n",
    "Simple linear regression involves finding a linear equation or linear regression model with a single independent variable and a single dependent variable. Multiple regression model is one that attempts to predict a dependent variable which is based on the value of multiple independent variables. For example we could attempt to predict the selling price of a house based on number of bedrooms and square footage of the house.  This is an example of two independent variables.\n",
    " Multivariate or multi target regression is the term used when there are multiple dependent variables or outputs. For this exercise the set of dependent variables is the set of 284 pixel values for the digit image. There are 10 target variables, namely the 10 digits. As the target variables are categorical (is the image digit =0 yes or no) we are performing multi-target classification here.\n"
   ]
  },
  {
   "cell_type": "code",
   "execution_count": 1,
   "metadata": {},
   "outputs": [],
   "source": [
    "# Libraries\n",
    "\n",
    "import numpy as np\n",
    "%matplotlib inline\n",
    "import matplotlib.pyplot as plt\n",
    "%config InlineBackend.figure_format ='retina' \n",
    "import pandas as pd"
   ]
  },
  {
   "cell_type": "markdown",
   "metadata": {},
   "source": [
    "<h2><span style=\"color:blue\">Load the data </span></h2>"
   ]
  },
  {
   "cell_type": "markdown",
   "metadata": {},
   "source": [
    "We use a dataset of 60,000 small square 28×28 pixel grayscale images of handwritten single digits between 0 and 9 to train the model. A dataset of 10,000 images will be used in testing the model. The MNIST dataset is used.  https://en.wikipedia.org/wiki/MNIST_database"
   ]
  },
  {
   "cell_type": "code",
   "execution_count": 3,
   "metadata": {},
   "outputs": [],
   "source": [
    "# load the data\n",
    "#training_data = np.genfromtxt(\"../data/mnist_train.csv\",delimiter=',')\n",
    "#test_data = np.genfromtxt(\"../data/mnist_test.csv\",delimiter=',')"
   ]
  },
  {
   "cell_type": "code",
   "execution_count": 3,
   "metadata": {},
   "outputs": [
    {
     "data": {
      "text/plain": [
       "'/Users/rmartin/Dropbox/MyPython/notebooks'"
      ]
     },
     "execution_count": 3,
     "metadata": {},
     "output_type": "execute_result"
    }
   ],
   "source": [
    "pwd"
   ]
  },
  {
   "cell_type": "code",
   "execution_count": 4,
   "metadata": {},
   "outputs": [],
   "source": [
    "# load the data\n",
    "training_df = pd.read_csv('mnist_train.csv.gz',header = None,compression='gzip')\n",
    "test_df = pd.read_csv('mnist_test.csv.gz',header = None,compression='gzip')    \n",
    "training_data = training_df.values\n",
    "test_data = test_df.values"
   ]
  },
  {
   "cell_type": "code",
   "execution_count": 5,
   "metadata": {},
   "outputs": [
    {
     "data": {
      "text/plain": [
       "((60000, 785), (10000, 785))"
      ]
     },
     "execution_count": 5,
     "metadata": {},
     "output_type": "execute_result"
    }
   ],
   "source": [
    "(training_data.shape , test_data.shape)"
   ]
  },
  {
   "cell_type": "markdown",
   "metadata": {},
   "source": [
    "We see above that training_data is a 60,000 x 785 matrix.  Each row has 784 pixel values for the image and one value for the label.  The labels are stored in the first entry of each row.  We unpack this data below."
   ]
  },
  {
   "cell_type": "code",
   "execution_count": 6,
   "metadata": {},
   "outputs": [
    {
     "data": {
      "text/plain": [
       "((60000, 784), (60000,))"
      ]
     },
     "execution_count": 6,
     "metadata": {},
     "output_type": "execute_result"
    }
   ],
   "source": [
    "# unpack the training images and symbols\n",
    "Xtest, labelstest = (test_data[:,1:],test_data[:,0])\n",
    "X , labels = (training_data[:,1:],training_data[:,0])\n",
    "(X.shape,labels.shape)"
   ]
  },
  {
   "cell_type": "markdown",
   "metadata": {},
   "source": [
    "From above we see the matrix \"X\" contains 60,000 images of (784 = 28 x 28) pixels. The array, \"labels\" contains the 60,000 labels or target values for each image.</br>\n",
    "Let us display the digit corresponding row 5 in X."
   ]
  },
  {
   "cell_type": "code",
   "execution_count": 7,
   "metadata": {},
   "outputs": [
    {
     "data": {
      "image/png": "[encoded data removed]",
      "text/plain": [
       "<Figure size 432x288 with 1 Axes>"
      ]
     },
     "metadata": {
      "image/png": {
       "height": 248,
       "width": 251
      },
      "needs_background": "light"
     },
     "output_type": "display_data"
    }
   ],
   "source": [
    "digit = X[5].reshape(28,28)\n",
    "plt.imshow(digit,cmap='gray')\n",
    "plt.grid()"
   ]
  },
  {
   "cell_type": "code",
   "execution_count": 8,
   "metadata": {},
   "outputs": [
    {
     "name": "stdout",
     "output_type": "stream",
     "text": [
      "2\n"
     ]
    }
   ],
   "source": [
    "# We see the digit \"2\" let us check the label and see if it matches the image\n",
    "print(labels[5])  # yes it does see the \"2\" below"
   ]
  },
  {
   "cell_type": "markdown",
   "metadata": {},
   "source": [
    "The linear regression model is shown below.  $X$ is the design matrix. The rows of $X$ are our inputs or \"feature vectors\". $\\vec{\\mathbf{\\beta}}$ is the parameter vector, what we are solving for. $\\vec{\\mathbf{y}}$ is the observation vector containing the labels for each input\n",
    "\n",
    "\\begin{align}\n",
    "X  \\vec{\\mathbf{\\beta}}  = \\vec{\\mathbf{y}}   \\\\  \n",
    "\\end{align}\n",
    "\n",
    "This system is overdetermined containing 60,000 equation and 785 unknown parameters. We will solve by using the standard normal equations used in least squares.\n",
    "\n",
    "\\begin{align}\n",
    "\\vec{\\mathbf{\\beta}}  =   (X^T X)^{-1} X^T  \\vec{\\mathbf{y}} \\\\   \n",
    "\\end{align}\n",
    "\n",
    "\n",
    "The vector of observations $\\vec{\\mathbf{y}}$ contains digit values 0 through 9.  The model will have difficuly predicting these values as is.  Instead imagine for a moment that we are just trying to determine if a digit is a zero or not. So we reduce our problem to a simpler problem. Just determine if the digit is a zero.  To do this we change our labele to y = 0 if the digit is not a zero and y = 1 if the digit is a zero. The numpy command below will create the new y."
   ]
  },
  {
   "cell_type": "code",
   "execution_count": 9,
   "metadata": {},
   "outputs": [
    {
     "name": "stdout",
     "output_type": "stream",
     "text": [
      "First 10 label values are [5 0 4 1 9 2 1 3 1 4]\n",
      "First 10 y values are [0 1 0 0 0 0 0 0 0 0]\n"
     ]
    }
   ],
   "source": [
    "y = np.where(labels==0,1,0) # this command looks \"where\" the labels values are 0 and replacese with a 1 else replace with a 0.\n",
    "print(f'First 10 label values are {labels[:10]}')\n",
    "print(f'First 10 y values are {y[:10]}')\n",
    "# see the comparison of the original vector of labels and y. The second label is a zero so we see a 1 in \n",
    "# corresponding postion for y"
   ]
  },
  {
   "cell_type": "code",
   "execution_count": 10,
   "metadata": {},
   "outputs": [],
   "source": [
    "# We need to append a column of zeros to the design matrix X\n",
    "X = np.hstack((X,np.ones((60000,1))))"
   ]
  },
  {
   "cell_type": "code",
   "execution_count": 11,
   "metadata": {},
   "outputs": [
    {
     "data": {
      "text/plain": [
       "(785,)"
      ]
     },
     "execution_count": 11,
     "metadata": {},
     "output_type": "execute_result"
    }
   ],
   "source": [
    "# compute the parameters for the model, again we are only detecting digit zero for now\n",
    "# this involves solving a sytem of 60,000 equations and 785 unknowns\n",
    "beta = np.linalg.pinv(X.T@X)@X.T@y\n",
    "beta.shape"
   ]
  },
  {
   "cell_type": "markdown",
   "metadata": {},
   "source": [
    "<h2><span style=\"color:blue\">Test the zero digit detector. </span></h2>"
   ]
  },
  {
   "cell_type": "code",
   "execution_count": 12,
   "metadata": {},
   "outputs": [],
   "source": [
    "# Get 100 random digits from the test set\n",
    "index_values = np.random.choice(range(10000),100,replace=False)\n",
    "digits = Xtest[index_values]\n",
    "# append column of 1's\n",
    "digits = np.hstack((digits,np.ones((100,1))))\n",
    "# predict output for these digits\n",
    "predict_values =(digits @ beta).round()\n"
   ]
  },
  {
   "cell_type": "code",
   "execution_count": 13,
   "metadata": {},
   "outputs": [
    {
     "data": {
      "text/plain": [
       "(array([16, 20, 27, 40, 63, 76, 80]),)"
      ]
     },
     "execution_count": 13,
     "metadata": {},
     "output_type": "execute_result"
    }
   ],
   "source": [
    "# which digits do we predict are zero, below will give the position of the zeros. Out of the list of 100 numbers 7 were zero.\n",
    "np.where(predict_values==1)"
   ]
  },
  {
   "cell_type": "code",
   "execution_count": 14,
   "metadata": {},
   "outputs": [
    {
     "data": {
      "text/plain": [
       "(array([16, 20, 27, 40, 60, 63, 76, 78, 80]),)"
      ]
     },
     "execution_count": 14,
     "metadata": {},
     "output_type": "execute_result"
    }
   ],
   "source": [
    "# Which digits are zero, below will give the position of the zeros. Comparing below to above we see 100% accuracy.  \n",
    "# Not a big deal as we were just testing between two possiblities. Is the digit zero or not.\n",
    "np.where(labelstest[index_values]==0)"
   ]
  },
  {
   "cell_type": "markdown",
   "metadata": {},
   "source": [
    "<h2><span style=\"color:blue\">Ten digit classification. </span></h2>"
   ]
  },
  {
   "cell_type": "markdown",
   "metadata": {},
   "source": [
    "To accomplish 10 digit classification we combine 10 linear regressors, each similar to the on above, in parallel. This will involve using one-hot-encoding for our labels. Each label instead of being represented as a single digit will be represented by an array of 10 bits all zero value excecpt a \"1\" in the position corresponding to the digit value.  For example the digit 3 will be encoded [0,0,0,1,0,0,0,0,0,0]. We start counting from zero. When predicting a digit value the model will output a 10 bit string.  The postion that has the largest value is the predicted digit.\n",
    "For example if the mode output the array [.22,.01,1.2,.44,.10,.25,.45,.76,.30,.55] then we predict the digit is a \"2\". Our parameter vector $\\vec{\\mathbf{\\beta}}$ will not be a matrix of size 785 x 10.\n"
   ]
  },
  {
   "cell_type": "code",
   "execution_count": 15,
   "metadata": {},
   "outputs": [],
   "source": [
    "# one hot encode the labels\n",
    "labels = labels.astype(int)\n",
    "y = np.zeros((60000,10))\n",
    "for k in range(60000):\n",
    "    y[k,labels[k]]=1"
   ]
  },
  {
   "cell_type": "code",
   "execution_count": 16,
   "metadata": {},
   "outputs": [
    {
     "data": {
      "text/plain": [
       "array([[0., 0., 0., 0., 0., 1., 0., 0., 0., 0.],\n",
       "       [1., 0., 0., 0., 0., 0., 0., 0., 0., 0.],\n",
       "       [0., 0., 0., 0., 1., 0., 0., 0., 0., 0.],\n",
       "       [0., 1., 0., 0., 0., 0., 0., 0., 0., 0.],\n",
       "       [0., 0., 0., 0., 0., 0., 0., 0., 0., 1.],\n",
       "       [0., 0., 1., 0., 0., 0., 0., 0., 0., 0.],\n",
       "       [0., 1., 0., 0., 0., 0., 0., 0., 0., 0.],\n",
       "       [0., 0., 0., 1., 0., 0., 0., 0., 0., 0.],\n",
       "       [0., 1., 0., 0., 0., 0., 0., 0., 0., 0.],\n",
       "       [0., 0., 0., 0., 1., 0., 0., 0., 0., 0.]])"
      ]
     },
     "execution_count": 16,
     "metadata": {},
     "output_type": "execute_result"
    }
   ],
   "source": [
    "# display the first 10 labels\n",
    "y[:10,:]\n",
    "# below we see the first label is a digit \"5\"\n",
    "# for the zero digit detector we just used the first column below. Now we process all 10 columns in parallel"
   ]
  },
  {
   "cell_type": "markdown",
   "metadata": {},
   "source": [
    "<h2><span style=\"color:blue\">Compute the parameter matrix $\\vec{\\mathbf{\\beta}}$ </span></h2>"
   ]
  },
  {
   "cell_type": "code",
   "execution_count": 17,
   "metadata": {},
   "outputs": [],
   "source": [
    "beta_matrix = np.linalg.pinv(X.T@X)@X.T@y"
   ]
  },
  {
   "cell_type": "markdown",
   "metadata": {},
   "source": [
    "We have just solve a sytem of 60000 equations in 785 unknowns.  Actually we have simultaneously solved 10 such systems."
   ]
  },
  {
   "cell_type": "code",
   "execution_count": 18,
   "metadata": {},
   "outputs": [
    {
     "data": {
      "text/plain": [
       "(785, 10)"
      ]
     },
     "execution_count": 18,
     "metadata": {},
     "output_type": "execute_result"
    }
   ],
   "source": [
    "beta_matrix.shape"
   ]
  },
  {
   "cell_type": "markdown",
   "metadata": {},
   "source": [
    "<h2><span style=\"color:blue\">Test the model with 100 random digits. </span></h2>"
   ]
  },
  {
   "cell_type": "code",
   "execution_count": 19,
   "metadata": {},
   "outputs": [],
   "source": [
    "# predict output for the random digits chosen above\n",
    "predict_values =(digits @ beta_matrix)"
   ]
  },
  {
   "cell_type": "code",
   "execution_count": 20,
   "metadata": {},
   "outputs": [
    {
     "data": {
      "text/plain": [
       "(100, 10)"
      ]
     },
     "execution_count": 20,
     "metadata": {},
     "output_type": "execute_result"
    }
   ],
   "source": [
    "predict_values.shape"
   ]
  },
  {
   "cell_type": "code",
   "execution_count": 21,
   "metadata": {},
   "outputs": [
    {
     "data": {
      "text/plain": [
       "array([9, 3, 1, 6, 3, 9, 9, 9, 7, 9, 4, 8, 3, 6, 1, 6, 0, 3, 4, 8])"
      ]
     },
     "execution_count": 21,
     "metadata": {},
     "output_type": "execute_result"
    }
   ],
   "source": [
    "outcomes = np.argmax(predict_values,axis=1)\n",
    "outcomes[:20]\n",
    "# below we see the prediction for the first 20 digits"
   ]
  },
  {
   "cell_type": "code",
   "execution_count": 22,
   "metadata": {},
   "outputs": [
    {
     "name": "stdout",
     "output_type": "stream",
     "text": [
      "      [9 3 1 6 3 9 9 4 7 9 4 8 3 6 1 6 0 3 4 8]\n"
     ]
    }
   ],
   "source": [
    "print('     ',labelstest[index_values][:20])"
   ]
  },
  {
   "cell_type": "markdown",
   "metadata": {},
   "source": [
    "Compute the accuracy.  Several runs give an average accuracy between 85 - 90 %"
   ]
  },
  {
   "cell_type": "code",
   "execution_count": 23,
   "metadata": {},
   "outputs": [
    {
     "data": {
      "text/plain": [
       "0.84"
      ]
     },
     "execution_count": 23,
     "metadata": {},
     "output_type": "execute_result"
    }
   ],
   "source": [
    "sum(outcomes==labelstest[index_values])/100"
   ]
  },
  {
   "cell_type": "code",
   "execution_count": 24,
   "metadata": {},
   "outputs": [],
   "source": [
    "# save the parameter matrix for later use\n",
    "np.save(\"beta_matrix.npy\",beta_matrix)"
   ]
  },
  {
   "cell_type": "code",
   "execution_count": 27,
   "metadata": {},
   "outputs": [
    {
     "name": "stdout",
     "output_type": "stream",
     "text": [
      "The watermark extension is already loaded. To reload it, use:\n",
      "  %reload_ext watermark\n",
      "CPython 3.7.6\n",
      "IPython 7.12.0\n",
      "\n",
      "pandas 1.0.1\n",
      "numpy 1.15.0\n",
      "matplotlib 3.1.3\n",
      "watermark 2.0.2\n",
      "\n",
      "compiler   : Clang 4.0.1 (tags/RELEASE_401/final)\n",
      "system     : Darwin\n",
      "release    : 19.5.0\n",
      "machine    : x86_64\n",
      "processor  : i386\n",
      "CPU cores  : 8\n",
      "interpreter: 64bit\n",
      " \n",
      "last updated: Thu Jul 09 2020 11:01:36 EDT\n"
     ]
    }
   ],
   "source": [
    "%load_ext watermark\n",
    "\n",
    "# python, ipython, packages, and machine characteristics\n",
    "%watermark -v -m -p pandas,numpy,matplotlib,watermark \n",
    "\n",
    "# date\n",
    "print (\" \")\n",
    "%watermark -u -n -t -z"
   ]
  },
  {
   "cell_type": "code",
   "execution_count": null,
   "metadata": {},
   "outputs": [],
   "source": []
  },
  {
   "cell_type": "code",
   "execution_count": null,
   "metadata": {},
   "outputs": [],
   "source": []
  }
 ],
 "metadata": {
  "kernelspec": {
   "display_name": "Python 3",
   "language": "python",
   "name": "python3"
  },
  "language_info": {
   "codemirror_mode": {
    "name": "ipython",
    "version": 3
   },
   "file_extension": ".py",
   "mimetype": "text/x-python",
   "name": "python",
   "nbconvert_exporter": "python",
   "pygments_lexer": "ipython3",
   "version": "3.7.4"
  }
 },
 "nbformat": 4,
 "nbformat_minor": 4
}
